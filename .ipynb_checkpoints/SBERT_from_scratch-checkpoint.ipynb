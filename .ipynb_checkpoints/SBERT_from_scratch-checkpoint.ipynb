{
 "cells": [
  {
   "cell_type": "code",
   "execution_count": 1,
   "id": "c973dc09-0bfb-4d5c-b69b-3c8a87d6f966",
   "metadata": {},
   "outputs": [],
   "source": [
    "sentence_1 = \"#Bitcoin is up 34% since bank of England governor has said, 'Be prepared to lose all your money in crypto'\"\n",
    "sentence_2 = \"One of the biggest bull traps I've ever seen\""
   ]
  },
  {
   "cell_type": "markdown",
   "id": "a46e2464-14ef-48f6-a86f-eff5888be53e",
   "metadata": {},
   "source": [
    "# lets see how similar these two sentences are and find the similarities"
   ]
  },
  {
   "cell_type": "markdown",
   "id": "0806ec59-221d-4e7f-9450-e7d315aa7335",
   "metadata": {},
   "source": [
    "using the sentencetransformers library - https://sbert.net/\n",
    "\n",
    "pre-trained models - https://sbert.net/docs/pretrained_models.html#"
   ]
  },
  {
   "cell_type": "markdown",
   "id": "70827ada-f4a1-483a-a3d7-a43b3664e694",
   "metadata": {},
   "source": [
    "Siamese network - https://github.com/pytorch/examples/blob/main/siamese_network/main.py"
   ]
  },
  {
   "cell_type": "markdown",
   "id": "2d493612-5d13-41a1-98f8-211e3ed0b165",
   "metadata": {},
   "source": [
    "\n",
    "Network (most important layer) - \n",
    "```\n",
    "def forward_once(self, x):\n",
    "        output = self.resnet(x)\n",
    "        output = output.view(output.size()[0], -1)\n",
    "        return output\n",
    "```\n",
    "\n",
    "Forwards the Input to the layer -\n",
    "\n",
    "```\n",
    "    def forward(self, input1, input2):\n",
    "        # get two images' features\n",
    "        output1 = self.forward_once(input1)\n",
    "        output2 = self.forward_once(input2)\n",
    "\n",
    "        # concatenate both images' features\n",
    "        output = torch.cat((output1, output2), 1)\n",
    "\n",
    "        # pass the concatenation to the linear layers\n",
    "        output = self.fc(output)\n",
    "\n",
    "        # pass the out of the linear layers to sigmoid layer\n",
    "        output = self.sigmoid(output)\n",
    "        \n",
    "        return output\n",
    "```\n",
    "\n",
    "The output / result given is a similarity score\n",
    "\n",
    "```\n",
    "it will be 1 (exact or accurate match) to -1 (opposite match)\n",
    "```\n",
    "\n"
   ]
  },
  {
   "cell_type": "markdown",
   "id": "34b14b33-6c3b-466a-9331-73536bbde460",
   "metadata": {},
   "source": [
    "MNIST - dataset of hand written digits 0 - 9\n",
    "\n",
    "```\n",
    "class APP_MATCHER(Dataset):\n",
    "\n",
    "      # pick the index to get the first image\n",
    "        index_1 = self.grouped_examples[selected_class][random_index_1]\n",
    "\n",
    "     # pick the index to get the second image\n",
    "            index_2 = self.grouped_examples[other_selected_class][random_index_2]\n",
    "\n",
    "     # set the label for this example to be negative (1) ----------------------------> If the Image is matching\n",
    "            target = torch.tensor(1, dtype=torch.float)\n",
    "\n",
    "     # set the label for this example to be negative (0) ----------------------------> If the Image is not matching\n",
    "            target = torch.tensor(0, dtype=torch.float)\n",
    "```"
   ]
  },
  {
   "cell_type": "code",
   "execution_count": 17,
   "id": "dbf2f09c-1287-447f-9767-3c600a5b86d6",
   "metadata": {},
   "outputs": [
    {
     "name": "stdout",
     "output_type": "stream",
     "text": [
      "Requirement already satisfied: sentence-transformers in /Users/thangarajmuruganantham/.pyenv/versions/3.9.5/lib/python3.9/site-packages (2.7.0)\n",
      "Requirement already satisfied: transformers<5.0.0,>=4.34.0 in /Users/thangarajmuruganantham/.pyenv/versions/3.9.5/lib/python3.9/site-packages (from sentence-transformers) (4.38.2)\n",
      "Requirement already satisfied: tqdm in /Users/thangarajmuruganantham/.pyenv/versions/3.9.5/lib/python3.9/site-packages (from sentence-transformers) (4.66.2)\n",
      "Requirement already satisfied: torch>=1.11.0 in /Users/thangarajmuruganantham/.pyenv/versions/3.9.5/lib/python3.9/site-packages (from sentence-transformers) (2.2.2)\n",
      "Requirement already satisfied: numpy in /Users/thangarajmuruganantham/.pyenv/versions/3.9.5/lib/python3.9/site-packages (from sentence-transformers) (1.26.4)\n",
      "Requirement already satisfied: scikit-learn in /Users/thangarajmuruganantham/.pyenv/versions/3.9.5/lib/python3.9/site-packages (from sentence-transformers) (1.3.1)\n",
      "Requirement already satisfied: scipy in /Users/thangarajmuruganantham/.pyenv/versions/3.9.5/lib/python3.9/site-packages (from sentence-transformers) (1.11.3)\n",
      "Requirement already satisfied: huggingface-hub>=0.15.1 in /Users/thangarajmuruganantham/.pyenv/versions/3.9.5/lib/python3.9/site-packages (from sentence-transformers) (0.22.2)\n",
      "Requirement already satisfied: Pillow in /Users/thangarajmuruganantham/.pyenv/versions/3.9.5/lib/python3.9/site-packages (from sentence-transformers) (10.2.0)\n",
      "Requirement already satisfied: filelock in /Users/thangarajmuruganantham/.pyenv/versions/3.9.5/lib/python3.9/site-packages (from huggingface-hub>=0.15.1->sentence-transformers) (3.13.1)\n",
      "Requirement already satisfied: fsspec>=2023.5.0 in /Users/thangarajmuruganantham/.pyenv/versions/3.9.5/lib/python3.9/site-packages (from huggingface-hub>=0.15.1->sentence-transformers) (2023.10.0)\n",
      "Requirement already satisfied: packaging>=20.9 in /Users/thangarajmuruganantham/.pyenv/versions/3.9.5/lib/python3.9/site-packages (from huggingface-hub>=0.15.1->sentence-transformers) (23.2)\n",
      "Requirement already satisfied: pyyaml>=5.1 in /Users/thangarajmuruganantham/.pyenv/versions/3.9.5/lib/python3.9/site-packages (from huggingface-hub>=0.15.1->sentence-transformers) (6.0.1)\n",
      "Requirement already satisfied: requests in /Users/thangarajmuruganantham/.pyenv/versions/3.9.5/lib/python3.9/site-packages (from huggingface-hub>=0.15.1->sentence-transformers) (2.31.0)\n",
      "Requirement already satisfied: typing-extensions>=3.7.4.3 in /Users/thangarajmuruganantham/.pyenv/versions/3.9.5/lib/python3.9/site-packages (from huggingface-hub>=0.15.1->sentence-transformers) (4.11.0)\n",
      "Requirement already satisfied: sympy in /Users/thangarajmuruganantham/.pyenv/versions/3.9.5/lib/python3.9/site-packages (from torch>=1.11.0->sentence-transformers) (1.12)\n",
      "Requirement already satisfied: networkx in /Users/thangarajmuruganantham/.pyenv/versions/3.9.5/lib/python3.9/site-packages (from torch>=1.11.0->sentence-transformers) (3.2.1)\n",
      "Requirement already satisfied: jinja2 in /Users/thangarajmuruganantham/.pyenv/versions/3.9.5/lib/python3.9/site-packages (from torch>=1.11.0->sentence-transformers) (3.1.2)\n",
      "Requirement already satisfied: regex!=2019.12.17 in /Users/thangarajmuruganantham/.pyenv/versions/3.9.5/lib/python3.9/site-packages (from transformers<5.0.0,>=4.34.0->sentence-transformers) (2023.10.3)\n",
      "Requirement already satisfied: tokenizers<0.19,>=0.14 in /Users/thangarajmuruganantham/.pyenv/versions/3.9.5/lib/python3.9/site-packages (from transformers<5.0.0,>=4.34.0->sentence-transformers) (0.15.2)\n",
      "Requirement already satisfied: safetensors>=0.4.1 in /Users/thangarajmuruganantham/.pyenv/versions/3.9.5/lib/python3.9/site-packages (from transformers<5.0.0,>=4.34.0->sentence-transformers) (0.4.2)\n",
      "Requirement already satisfied: joblib>=1.1.1 in /Users/thangarajmuruganantham/.pyenv/versions/3.9.5/lib/python3.9/site-packages (from scikit-learn->sentence-transformers) (1.3.2)\n",
      "Requirement already satisfied: threadpoolctl>=2.0.0 in /Users/thangarajmuruganantham/.pyenv/versions/3.9.5/lib/python3.9/site-packages (from scikit-learn->sentence-transformers) (3.2.0)\n",
      "Requirement already satisfied: MarkupSafe>=2.0 in /Users/thangarajmuruganantham/.pyenv/versions/3.9.5/lib/python3.9/site-packages (from jinja2->torch>=1.11.0->sentence-transformers) (2.1.3)\n",
      "Requirement already satisfied: charset-normalizer<4,>=2 in /Users/thangarajmuruganantham/.pyenv/versions/3.9.5/lib/python3.9/site-packages (from requests->huggingface-hub>=0.15.1->sentence-transformers) (3.2.0)\n",
      "Requirement already satisfied: idna<4,>=2.5 in /Users/thangarajmuruganantham/.pyenv/versions/3.9.5/lib/python3.9/site-packages (from requests->huggingface-hub>=0.15.1->sentence-transformers) (3.4)\n",
      "Requirement already satisfied: urllib3<3,>=1.21.1 in /Users/thangarajmuruganantham/.pyenv/versions/3.9.5/lib/python3.9/site-packages (from requests->huggingface-hub>=0.15.1->sentence-transformers) (2.0.4)\n",
      "Requirement already satisfied: certifi>=2017.4.17 in /Users/thangarajmuruganantham/.pyenv/versions/3.9.5/lib/python3.9/site-packages (from requests->huggingface-hub>=0.15.1->sentence-transformers) (2023.7.22)\n",
      "Requirement already satisfied: mpmath>=0.19 in /Users/thangarajmuruganantham/.pyenv/versions/3.9.5/lib/python3.9/site-packages (from sympy->torch>=1.11.0->sentence-transformers) (1.3.0)\n",
      "Note: you may need to restart the kernel to use updated packages.\n"
     ]
    }
   ],
   "source": [
    "pip install -U sentence-transformers"
   ]
  },
  {
   "cell_type": "code",
   "execution_count": 13,
   "id": "9323e962-36e5-4e0b-b5dc-3ffb6b8bdd8a",
   "metadata": {},
   "outputs": [
    {
     "name": "stdout",
     "output_type": "stream",
     "text": [
      "Name: sentence-transformers\n",
      "Version: 2.7.0\n",
      "Summary: Multilingual text embeddings\n",
      "Home-page: https://www.SBERT.net\n",
      "Author: Nils Reimers\n",
      "Author-email: info@nils-reimers.de\n",
      "License: Apache License 2.0\n",
      "Location: /Users/thangarajmuruganantham/.pyenv/versions/3.9.5/lib/python3.9/site-packages\n",
      "Requires: huggingface-hub, numpy, Pillow, scikit-learn, scipy, torch, tqdm, transformers\n",
      "Required-by: \n",
      "Note: you may need to restart the kernel to use updated packages.\n"
     ]
    }
   ],
   "source": [
    "pip show sentence_transformers"
   ]
  },
  {
   "cell_type": "code",
   "execution_count": 3,
   "id": "0ebb72e1-a693-41d6-99ba-65456a93419d",
   "metadata": {},
   "outputs": [],
   "source": [
    "from sentence_transformers import SentenceTransformer, util "
   ]
  },
  {
   "cell_type": "code",
   "execution_count": 16,
   "id": "ca03e556-2e32-4573-bafd-5d5d9b2f99e4",
   "metadata": {},
   "outputs": [],
   "source": [
    "symmetric_embedder = SentenceTransformer(\"all-mpnet-base-v2\")"
   ]
  },
  {
   "cell_type": "code",
   "execution_count": 18,
   "id": "1144bb89-bbc9-4127-9865-937abb063bcd",
   "metadata": {},
   "outputs": [
    {
     "data": {
      "text/plain": [
       "384"
      ]
     },
     "execution_count": 18,
     "metadata": {},
     "output_type": "execute_result"
    }
   ],
   "source": [
    "symmetric_embedder\n",
    "model.max_seq_length"
   ]
  },
  {
   "cell_type": "markdown",
   "id": "4beb3d11-b7d7-4ccf-9304-8b20f5c86ba5",
   "metadata": {},
   "source": [
    "'max_seq_length': 384 -> max of 384 tokens\n",
    "\n",
    "'dimensions' -> 768\n",
    "\n"
   ]
  },
  {
   "cell_type": "code",
   "execution_count": 21,
   "id": "7f5fe518-ef80-4751-9afc-4c730a35bb09",
   "metadata": {},
   "outputs": [
    {
     "data": {
      "text/plain": [
       "384"
      ]
     },
     "execution_count": 21,
     "metadata": {},
     "output_type": "execute_result"
    }
   ],
   "source": [
    "model.max_seq_length"
   ]
  },
  {
   "cell_type": "code",
   "execution_count": 19,
   "id": "c0ac8744-1d80-4a89-b110-063d385fa969",
   "metadata": {},
   "outputs": [],
   "source": [
    "corpus = [\n",
    "    \"#Bitcoin is up 34% since the bank of England governor has said, 'Be prepared to lose all your money in crypto'\",\n",
    "    \"ETH is the most loved cryptocurrency\",\n",
    "    \"Football is the biggest sport in the world\",\n",
    "    \"Hockey is loved by Australia\",\n",
    "    \"Pet dogs are most loved creatures\",\n",
    "    \"Solana is going to beat L2\",\n",
    "    \"Consensus Mechanism is a crucial component in Crypto\",\n",
    "    \"Hashing often requires cryptography\",\n",
    "    \"Secure algorithms matter most in encoding and decoding\",\n",
    "    \"Bitcoin is a Scam!\",\n",
    "    \"Algebra is the branch of mathematics that studies algebraic structures and the manipulation of statements within those structures.\" \n",
    "]"
   ]
  },
  {
   "cell_type": "code",
   "execution_count": 20,
   "id": "d9a6f394-886a-4be0-a066-cd48e0a55520",
   "metadata": {},
   "outputs": [
    {
     "data": {
      "application/vnd.jupyter.widget-view+json": {
       "model_id": "a251925d88494a7e9c147195546bdda1",
       "version_major": 2,
       "version_minor": 0
      },
      "text/plain": [
       "Batches:   0%|          | 0/1 [00:00<?, ?it/s]"
      ]
     },
     "metadata": {},
     "output_type": "display_data"
    }
   ],
   "source": [
    "corpus_embedding = symmetric_embedder.encode(corpus, convert_to_tensor=True, show_progress_bar=True)"
   ]
  },
  {
   "cell_type": "code",
   "execution_count": 52,
   "id": "4ae5f88b-a1ea-413c-8f1e-12305f01c078",
   "metadata": {},
   "outputs": [
    {
     "data": {
      "text/plain": [
       "tensor([[-6.3364e-02,  2.6495e-02, -3.9983e-02,  ...,  1.1951e-03,\n",
       "         -3.3836e-02, -6.4042e-05],\n",
       "        [ 3.6148e-03,  2.7528e-03, -2.2424e-02,  ...,  3.9087e-02,\n",
       "          1.1596e-02, -6.9011e-02],\n",
       "        [-8.9757e-03,  7.2407e-03, -8.5604e-03,  ...,  4.8585e-02,\n",
       "         -1.7722e-02, -3.2007e-02],\n",
       "        ...,\n",
       "        [-2.1881e-02,  7.4379e-02,  9.5262e-03,  ...,  1.5566e-02,\n",
       "          2.2054e-02, -2.1837e-02],\n",
       "        [ 2.1110e-02, -2.4922e-03, -2.6296e-02,  ...,  2.0628e-02,\n",
       "          3.8118e-02, -7.9173e-03],\n",
       "        [-2.3028e-02, -6.9315e-03, -2.2992e-02,  ...,  4.1929e-02,\n",
       "          3.4860e-02, -2.5575e-02]], device='mps:0')"
      ]
     },
     "execution_count": 52,
     "metadata": {},
     "output_type": "execute_result"
    }
   ],
   "source": [
    "corpus_embedding"
   ]
  },
  {
   "cell_type": "code",
   "execution_count": 29,
   "id": "dc4a0b01-e971-425c-8da3-ac569f337ba3",
   "metadata": {},
   "outputs": [
    {
     "data": {
      "text/plain": [
       "torch.Size([6, 768])"
      ]
     },
     "execution_count": 29,
     "metadata": {},
     "output_type": "execute_result"
    }
   ],
   "source": [
    "corpus_embedding.shape"
   ]
  },
  {
   "cell_type": "code",
   "execution_count": 57,
   "id": "1f855f3d-6d24-4d36-8f39-365fad13effc",
   "metadata": {},
   "outputs": [
    {
     "data": {
      "text/plain": [
       "11"
      ]
     },
     "execution_count": 57,
     "metadata": {},
     "output_type": "execute_result"
    }
   ],
   "source": [
    "len(corpus)"
   ]
  },
  {
   "cell_type": "code",
   "execution_count": 30,
   "id": "1ee095cd-a930-4434-ada8-508f784fdfb4",
   "metadata": {},
   "outputs": [
    {
     "data": {
      "text/plain": [
       "tensor([-1.3406e-02, -7.9454e-03, -3.8277e-02,  1.4456e-02,  2.3996e-02,\n",
       "         3.7280e-02,  1.0711e-04, -1.4578e-02,  1.6199e-02,  3.2206e-02,\n",
       "        -1.3497e-02,  5.2651e-02, -3.4074e-03,  8.4609e-02,  1.0101e-02,\n",
       "        -1.7384e-02,  4.1175e-02,  4.7830e-02, -1.7822e-02, -2.3941e-02,\n",
       "         3.9498e-02, -2.2561e-02,  2.4298e-02, -3.4801e-02,  8.5140e-02,\n",
       "         1.2232e-02,  4.9265e-02,  1.3435e-02, -6.7133e-03,  1.6241e-02,\n",
       "         3.2778e-02,  5.1026e-03, -6.1773e-02,  3.3196e-02,  1.5524e-06,\n",
       "         2.2012e-02, -3.3282e-02,  4.3044e-02, -5.2482e-02, -3.4710e-02,\n",
       "        -1.6912e-02,  2.1018e-02,  4.8377e-03, -3.0161e-02, -1.2922e-02,\n",
       "         2.0920e-02,  5.4336e-02,  1.3451e-02, -2.0670e-02,  2.8293e-02,\n",
       "         3.9731e-03,  2.5615e-02, -6.8780e-02, -2.1925e-02, -7.2000e-03,\n",
       "         6.1910e-02, -5.5707e-03,  6.2450e-03,  9.8693e-03,  3.3367e-02,\n",
       "        -3.4274e-02, -1.9938e-02,  1.0872e-02, -2.3054e-02,  5.3701e-02,\n",
       "         2.0449e-02, -1.5525e-02,  4.0949e-03, -2.8278e-02,  3.1558e-02,\n",
       "        -6.2538e-02,  2.3080e-02,  3.9876e-02,  3.9816e-02, -6.6058e-02,\n",
       "        -4.5396e-02, -3.2750e-03, -1.5486e-02,  5.2946e-03,  5.2425e-03,\n",
       "         3.1036e-02,  2.2727e-03,  1.0263e-03,  1.1784e-02, -1.3636e-02,\n",
       "        -4.6475e-02, -3.3127e-03,  1.0092e-02,  1.7964e-02, -4.0945e-03,\n",
       "        -8.0852e-02,  2.4779e-02, -2.7597e-02, -9.2207e-02,  1.7298e-02,\n",
       "        -6.7757e-03,  3.5016e-02, -3.1728e-03,  1.9706e-02, -2.1725e-02,\n",
       "        -3.4784e-02,  1.2185e-02, -1.1142e-02,  2.9232e-02, -8.5532e-02,\n",
       "        -3.1725e-03,  1.2675e-02, -2.8561e-02,  8.6692e-02,  3.3117e-02,\n",
       "        -2.2167e-02,  4.1097e-02, -1.2119e-04,  4.8363e-02,  1.3331e-02,\n",
       "         2.4296e-02, -5.3367e-02,  2.2004e-02, -5.0609e-02, -2.9135e-02,\n",
       "         1.8603e-02,  2.5430e-02,  4.2802e-02,  1.7436e-02,  4.3369e-02,\n",
       "         4.5874e-02, -6.5851e-02,  3.2052e-02,  4.2473e-02,  6.1874e-02,\n",
       "         4.8543e-03,  9.7544e-03, -7.9683e-03, -3.1736e-02, -2.8652e-03,\n",
       "        -2.1790e-02,  4.4169e-02, -6.1129e-02,  3.7991e-02, -5.3616e-03,\n",
       "        -2.0660e-03,  4.8887e-02, -4.9517e-02, -3.6588e-03, -6.8471e-02,\n",
       "         9.9747e-03,  1.2451e-02,  8.7523e-02,  1.1677e-02, -1.3448e-02,\n",
       "         1.3810e-02,  1.1284e-02,  4.3847e-02, -7.2195e-02,  2.5199e-02,\n",
       "         1.3550e-02,  6.3159e-02, -8.9842e-02, -8.3442e-02,  3.4662e-02,\n",
       "         8.8485e-03,  2.5065e-02, -1.5530e-02, -2.7494e-02,  9.5350e-04,\n",
       "        -5.1512e-02,  2.3493e-02,  1.4839e-02, -5.8080e-02, -5.0574e-02,\n",
       "         3.9070e-02, -1.5262e-02, -5.6359e-02, -6.0909e-02,  5.5363e-02,\n",
       "        -3.4803e-02, -4.2324e-02, -2.4696e-02, -7.3889e-02, -1.1217e-02,\n",
       "        -2.1151e-02, -4.4649e-02, -1.8281e-02,  2.4064e-02,  5.6752e-03,\n",
       "         1.8862e-02, -1.9875e-02, -1.8724e-02,  3.8716e-03,  1.3341e-02,\n",
       "        -2.7013e-03, -3.4546e-02,  3.9681e-02,  9.6154e-03, -2.2305e-02,\n",
       "        -1.2899e-02, -1.3243e-03,  2.3131e-02,  1.3451e-02,  3.3421e-02,\n",
       "        -4.3051e-02, -1.6206e-02,  6.9915e-02,  6.4320e-04, -7.0143e-02,\n",
       "         4.7204e-02,  1.9946e-02, -8.2309e-03,  2.8581e-02,  3.6887e-02,\n",
       "         2.9666e-02, -2.5274e-02, -2.0168e-02,  6.0211e-03,  5.5996e-02,\n",
       "         4.6278e-02,  1.2103e-02,  5.7219e-02, -2.8209e-02,  7.9477e-02,\n",
       "        -3.9328e-02,  1.8886e-02, -2.0786e-02, -4.2974e-02,  4.3431e-02,\n",
       "        -1.1405e-02,  1.0283e-02,  1.9265e-02,  1.5028e-02,  1.0983e-02,\n",
       "        -2.2807e-02,  1.1477e-02, -1.0504e-02,  1.6627e-03, -2.8321e-02,\n",
       "         2.4881e-02,  4.9491e-02, -1.7113e-03, -1.9761e-02, -4.1768e-02,\n",
       "        -3.7078e-02, -3.0763e-03,  1.5565e-02,  5.0528e-03,  4.6254e-02,\n",
       "         1.7186e-02,  6.5499e-02,  1.3066e-02, -5.0564e-02, -1.3928e-02,\n",
       "        -2.3328e-02, -6.5882e-03,  2.2273e-02,  2.6569e-02, -3.2075e-02,\n",
       "         1.9150e-02, -8.6115e-03,  4.1799e-02,  3.6321e-02, -4.2445e-03,\n",
       "         3.2830e-02,  1.0986e-02,  2.5959e-02,  5.1631e-02, -2.4464e-02,\n",
       "        -4.0765e-02,  6.3781e-03, -6.8622e-02, -3.4096e-02, -1.8507e-02,\n",
       "         3.9907e-02,  4.0010e-02,  1.2406e-02,  1.0041e-02, -3.2312e-02,\n",
       "        -1.5449e-02, -2.9550e-02, -2.1037e-02, -1.1841e-02,  6.3109e-03,\n",
       "        -5.1468e-03,  1.2283e-02, -4.4305e-02,  3.4025e-03, -1.9269e-02,\n",
       "         1.1445e-03,  1.6666e-02,  2.9978e-02,  1.0176e-01, -3.0301e-02,\n",
       "        -2.2530e-02, -1.9217e-02, -1.6582e-02,  4.3151e-02, -2.1041e-02,\n",
       "         1.0081e-02, -1.0921e-02,  9.5786e-03, -3.2852e-03, -1.8527e-02,\n",
       "        -7.8378e-02, -1.7560e-03,  1.8122e-02,  3.6853e-04, -4.7917e-02,\n",
       "         1.6642e-02,  1.6317e-02,  6.8348e-03,  1.8718e-02,  2.7629e-02,\n",
       "         2.2633e-02,  9.1662e-03, -2.6069e-02, -4.4576e-02,  3.3575e-02,\n",
       "         2.9970e-02, -6.7726e-02,  5.4182e-02,  3.2022e-02, -3.7341e-02,\n",
       "        -8.3098e-03, -3.7221e-02, -3.0178e-02,  2.3063e-02, -2.8332e-03,\n",
       "         1.7428e-02, -1.1910e-02, -2.0511e-02, -2.3853e-02, -4.3375e-02,\n",
       "         3.1650e-02, -5.0095e-02,  1.1049e-04, -2.9279e-03, -1.1412e-02,\n",
       "        -5.4768e-02, -2.9937e-02, -5.7573e-02, -2.9330e-03, -2.8797e-03,\n",
       "         1.1925e-02,  8.4896e-03,  2.6064e-02, -1.9961e-02, -2.3805e-02,\n",
       "        -1.7647e-02,  4.4343e-02, -5.5252e-02,  5.1131e-02, -3.5126e-02,\n",
       "         2.5778e-02, -8.1571e-02,  6.0987e-03, -2.4230e-02,  5.1803e-02,\n",
       "         2.5291e-02,  4.0760e-02, -1.7086e-02, -2.9400e-02,  2.9244e-02,\n",
       "         5.2619e-02,  1.4801e-02, -4.7669e-02,  6.7219e-03, -6.1836e-02,\n",
       "         2.7892e-02,  3.2713e-03,  6.9381e-03, -3.3357e-02, -2.7933e-02,\n",
       "         5.3616e-03, -5.7000e-04,  2.7493e-02,  4.5419e-02, -3.2206e-02,\n",
       "         8.6377e-03, -2.0385e-03,  1.8464e-02,  2.2822e-03, -2.1368e-03,\n",
       "         2.5999e-02, -8.4814e-02,  1.0643e-02, -3.2684e-02, -1.9386e-02,\n",
       "         2.0547e-02, -4.2393e-02, -5.7078e-03, -1.5209e-02,  1.0247e-02,\n",
       "        -8.0269e-03,  2.3331e-03, -1.0576e-02, -5.1389e-02, -2.1441e-02,\n",
       "        -2.2722e-02,  6.6367e-03, -3.3627e-02, -2.0409e-02,  2.0156e-02,\n",
       "         3.7632e-02,  1.0297e-02,  9.6402e-02,  3.6083e-02, -3.4976e-02,\n",
       "        -1.2335e-02,  5.0759e-02,  4.9478e-02, -3.6705e-02, -4.0921e-02,\n",
       "        -7.4323e-02,  7.0991e-02, -2.5473e-03, -1.4930e-02,  6.3014e-02,\n",
       "        -5.4517e-02, -1.0891e-02,  1.1973e-02,  1.4276e-02, -3.4624e-02,\n",
       "         6.9779e-02, -6.6957e-03, -2.1264e-02, -3.3460e-02, -1.6280e-02,\n",
       "         1.5719e-03, -4.8077e-02, -6.4989e-03, -1.7614e-02,  2.2384e-03,\n",
       "         2.1308e-02, -6.8286e-02, -7.5720e-03,  1.3742e-02, -1.0203e-02,\n",
       "        -7.5074e-02, -1.1654e-02,  6.0819e-02, -2.4262e-02, -3.2142e-02,\n",
       "        -9.6380e-03, -3.4584e-02,  2.4224e-02, -1.5347e-02,  4.4659e-02,\n",
       "         8.0336e-02, -7.4243e-02, -2.3485e-02, -2.8472e-02,  7.0191e-02,\n",
       "        -1.3908e-02, -9.6832e-02,  3.7856e-02, -2.1016e-02, -6.5221e-02,\n",
       "        -4.2563e-03, -2.5482e-03,  7.7050e-03,  2.8728e-02,  1.0190e-02,\n",
       "        -3.2554e-02,  1.7984e-02, -5.1105e-02, -1.1679e-02,  2.1134e-02,\n",
       "         2.2513e-02,  1.3145e-02, -2.6278e-02, -2.4227e-02,  3.4699e-02,\n",
       "         1.3831e-02, -6.0911e-02,  2.0688e-02,  4.9422e-03, -7.8645e-03,\n",
       "        -1.5786e-02, -6.3052e-02, -1.0606e-03,  1.6509e-02, -4.2782e-02,\n",
       "         1.8207e-03,  6.7419e-03, -7.2329e-03,  5.4866e-02, -1.7942e-02,\n",
       "        -4.7405e-02,  1.7190e-02,  1.3034e-02,  3.4629e-02, -1.7652e-02,\n",
       "        -6.9950e-03,  2.2912e-02, -4.7912e-02, -6.3409e-04,  7.3669e-02,\n",
       "        -1.4188e-02,  1.8219e-03,  2.5569e-02, -1.2873e-01,  4.4622e-02,\n",
       "         1.8980e-02,  7.8094e-03,  7.9942e-03, -6.6907e-04,  4.8263e-02,\n",
       "         3.7504e-02,  1.4658e-02, -8.9378e-03, -1.2085e-02, -4.6004e-02,\n",
       "         1.9285e-02,  2.2896e-02,  4.0180e-03, -9.5263e-02,  5.7059e-02,\n",
       "        -1.9064e-02,  5.1893e-02, -5.4734e-02,  4.5179e-02, -1.1680e-02,\n",
       "         2.0290e-02, -1.1654e-02,  4.0535e-02, -7.7443e-03, -8.2774e-03,\n",
       "        -6.1577e-02, -6.7605e-03, -2.4537e-02, -1.7262e-02,  1.4543e-02,\n",
       "         3.2309e-02, -3.1385e-02, -2.2577e-02,  1.9459e-03, -2.3180e-02,\n",
       "         3.2880e-02,  4.5231e-02, -5.4721e-02, -1.1208e-02,  3.6790e-02,\n",
       "         2.6776e-02, -5.4863e-02,  1.5671e-02, -1.4544e-02, -4.7093e-02,\n",
       "         5.3589e-03,  6.1311e-02,  3.5038e-02,  7.5862e-03,  8.4329e-02,\n",
       "         5.0045e-02,  1.0385e-02, -6.6835e-02,  2.3849e-02, -2.7754e-02,\n",
       "        -5.6694e-33,  2.3800e-02,  1.4455e-02,  7.9466e-04,  2.2741e-02,\n",
       "         1.5350e-02,  7.0756e-02, -3.6581e-02,  8.1196e-02, -1.7399e-02,\n",
       "        -4.0824e-02, -6.6348e-03,  2.1502e-02,  1.3342e-02,  5.0493e-02,\n",
       "         3.5420e-02,  4.2664e-02, -1.1025e-02,  4.3030e-02,  3.8759e-02,\n",
       "         5.4272e-03,  2.9019e-02,  2.9108e-02,  9.0428e-02,  6.8130e-03,\n",
       "         8.6879e-02,  8.4709e-02,  3.8296e-02, -6.7358e-02,  2.3744e-02,\n",
       "         3.7566e-03, -1.2889e-02, -4.7729e-03, -5.8318e-02, -5.7207e-02,\n",
       "        -1.5403e-02, -4.1358e-02,  2.5729e-02, -3.4741e-02, -2.2807e-02,\n",
       "        -1.8372e-02, -5.5840e-02,  2.6754e-02,  4.5178e-02,  2.0717e-02,\n",
       "         3.3612e-02,  4.3206e-02,  1.1612e-02,  2.1848e-02,  5.6660e-03,\n",
       "        -1.1113e-02,  3.2892e-03,  2.9962e-02, -3.3899e-02,  1.0464e-01,\n",
       "         7.0074e-03, -3.8086e-02, -4.4428e-02,  5.3010e-02, -8.3736e-02,\n",
       "        -2.2562e-02, -3.9683e-02,  2.4715e-02, -2.3796e-02, -3.1347e-02,\n",
       "         4.5919e-02,  7.3616e-02,  4.6601e-04,  4.0662e-02,  6.5158e-02,\n",
       "         6.3256e-02, -2.3650e-02,  1.0136e-01,  7.7663e-03,  2.5093e-03,\n",
       "        -4.2224e-03, -6.3855e-02, -1.3436e-02,  3.6253e-02,  3.3904e-02,\n",
       "        -2.5497e-02,  1.0194e-02, -2.8937e-02, -7.2890e-02,  1.4108e-03,\n",
       "         1.1944e-02,  2.2306e-02, -8.3507e-03, -4.8316e-02, -7.4910e-03,\n",
       "         3.9760e-02,  5.9883e-03,  9.1373e-03,  1.5404e-03, -2.3746e-02,\n",
       "        -8.8270e-02, -1.6476e-02,  2.0003e-02,  2.0053e-02, -5.0754e-04,\n",
       "        -9.5829e-03, -3.4855e-02, -1.1036e-02, -7.2158e-02, -1.1100e-02,\n",
       "        -2.1501e-02, -2.5877e-02, -1.5874e-02,  1.4887e-03, -5.1410e-02,\n",
       "         1.4846e-02, -3.9493e-02, -5.3758e-02, -2.1752e-03,  2.1809e-02,\n",
       "        -4.3808e-02,  2.3508e-02,  4.2136e-03, -2.5977e-02, -5.1313e-02,\n",
       "        -9.1638e-03, -4.8887e-03, -5.4048e-03, -6.3231e-02,  3.4948e-02,\n",
       "         3.9501e-02, -2.3917e-02, -3.5516e-02,  8.4472e-02, -1.3857e-02,\n",
       "        -2.9624e-02, -4.5072e-03, -5.8249e-02,  2.2761e-07,  9.6440e-03,\n",
       "         1.6901e-02,  5.2201e-02,  1.2226e-02,  1.3757e-02,  3.0175e-02,\n",
       "        -9.4682e-03,  2.7466e-02, -2.7660e-03,  5.0242e-02, -2.0584e-03,\n",
       "        -3.8295e-03,  3.8244e-02,  1.2761e-02, -2.9864e-03,  1.7023e-02,\n",
       "        -6.3083e-03, -3.3661e-02,  2.7878e-02,  1.8945e-02, -2.8280e-02,\n",
       "         2.6676e-02,  1.9596e-03,  2.0018e-02,  1.0628e-02,  1.2514e-02,\n",
       "         7.7741e-03, -7.8284e-02,  4.2640e-02, -2.2000e-02, -8.6818e-02,\n",
       "         6.2009e-02, -1.2589e-02, -2.3160e-02, -8.2133e-03, -1.6958e-02,\n",
       "         4.3920e-02, -4.7011e-02,  3.3813e-02, -1.0686e-04, -3.6807e-03,\n",
       "        -6.5463e-02,  1.3167e-02, -4.3947e-02, -3.9837e-02,  3.8781e-02,\n",
       "        -2.2489e-02, -2.2118e-02, -7.1055e-03,  2.6324e-02,  5.8683e-02,\n",
       "        -1.3549e-02, -3.5829e-02, -6.8850e-02,  2.1447e-03, -5.9729e-02,\n",
       "         2.3025e-02,  1.7679e-02,  6.3424e-03, -1.9159e-02, -3.3225e-02,\n",
       "         3.2261e-02, -1.4799e-02,  7.8835e-02,  5.4152e-02,  4.4117e-02,\n",
       "         3.9494e-02,  1.9300e-34,  3.0732e-02, -1.3210e-02, -1.2989e-02,\n",
       "         4.8230e-02,  3.0538e-02,  1.4846e-02,  2.1798e-02, -6.1374e-02,\n",
       "         3.3859e-02,  3.5696e-03, -5.7601e-02], device='mps:0')"
      ]
     },
     "execution_count": 30,
     "metadata": {},
     "output_type": "execute_result"
    }
   ],
   "source": [
    "corpus_embedding[1]"
   ]
  },
  {
   "cell_type": "code",
   "execution_count": 31,
   "id": "28003c10-32ee-4bc3-945f-5ad61267ebeb",
   "metadata": {},
   "outputs": [
    {
     "data": {
      "text/plain": [
       "tensor([-6.1425e-02,  2.5986e-02, -3.8127e-02,  1.0566e-02,  3.8284e-02,\n",
       "         3.1644e-02, -8.2604e-02,  1.8485e-02, -3.1635e-02,  3.9607e-02,\n",
       "         2.0377e-02,  8.1015e-02, -4.7278e-02,  7.1095e-02,  2.0629e-03,\n",
       "        -2.2273e-02,  3.8601e-02,  6.4954e-03,  1.9507e-02, -2.8493e-02,\n",
       "         5.5987e-03, -1.2616e-02,  6.5403e-03, -1.5630e-02,  7.2113e-03,\n",
       "        -2.1421e-02,  3.5920e-02,  5.1999e-02,  6.9313e-03, -2.8051e-02,\n",
       "        -1.8445e-02, -7.6281e-02, -4.4929e-02, -1.8486e-03,  1.8711e-06,\n",
       "        -2.3570e-02, -1.5255e-02,  3.4312e-02, -6.3402e-02, -2.9641e-02,\n",
       "        -4.8247e-02, -9.3073e-02, -3.1487e-03,  5.7475e-03, -4.5890e-02,\n",
       "         2.9176e-02,  2.8018e-02,  1.3194e-02,  6.7696e-03,  6.4461e-02,\n",
       "         6.4331e-03, -1.6198e-02,  8.4606e-03, -1.8994e-02, -5.5830e-03,\n",
       "        -3.5484e-02,  4.1208e-03,  7.0567e-02, -2.1964e-02,  6.3726e-02,\n",
       "        -1.9739e-02,  4.0348e-02, -6.4768e-03, -4.5055e-03, -4.3116e-02,\n",
       "         2.0615e-02,  4.9253e-02,  2.8480e-02, -3.0175e-02, -7.5634e-03,\n",
       "         9.1027e-02,  1.0166e-02,  2.7490e-02, -1.1877e-03, -9.0707e-04,\n",
       "         1.1714e-02, -3.7378e-02,  3.8620e-02, -2.8040e-02,  2.8174e-02,\n",
       "        -1.9806e-02,  3.8600e-02,  7.2663e-03,  3.3417e-02,  7.0712e-02,\n",
       "        -7.4066e-03, -5.8824e-04, -2.6633e-02,  6.7278e-02,  3.7576e-02,\n",
       "        -1.7736e-02,  3.1595e-04, -6.4378e-02, -5.0798e-02,  2.4858e-02,\n",
       "         4.6689e-02,  4.1726e-03,  2.0908e-02,  3.6678e-02, -1.1995e-01,\n",
       "        -6.3852e-02,  3.6184e-02,  1.0668e-02,  2.7739e-02, -4.0024e-02,\n",
       "        -1.0219e-02, -5.9149e-02, -1.9897e-02,  3.6538e-03,  3.5707e-02,\n",
       "        -3.8243e-03,  3.0157e-03,  5.0066e-03, -2.2758e-02, -2.5129e-02,\n",
       "         6.7529e-02, -1.6366e-02,  2.7603e-02, -1.8122e-02,  4.9216e-02,\n",
       "         3.8156e-02,  2.0780e-02,  1.9023e-02, -2.6680e-02,  4.6349e-03,\n",
       "         1.2895e-02, -2.5362e-02,  9.4069e-04,  3.2104e-02, -1.1690e-02,\n",
       "        -9.5825e-04, -2.3192e-02, -3.2623e-03, -2.0677e-02,  6.7651e-03,\n",
       "         3.5372e-02,  3.4680e-02,  7.4298e-03,  3.2831e-02,  1.1448e-02,\n",
       "        -3.1013e-03,  6.6012e-03,  1.5014e-02, -3.2773e-03, -7.5718e-02,\n",
       "         6.1098e-03,  3.6886e-02,  3.7301e-02, -9.5632e-03,  1.1362e-02,\n",
       "         1.7241e-02, -3.9664e-03, -3.7295e-02, -3.3682e-02,  2.9585e-02,\n",
       "         8.1127e-03, -6.1955e-02,  2.5011e-02, -1.3672e-03,  7.4303e-03,\n",
       "         1.1719e-02, -1.5705e-02, -1.5930e-02,  3.6855e-03, -4.0971e-02,\n",
       "        -1.6617e-02, -1.2584e-02,  4.2586e-03,  4.4520e-02, -9.2241e-03,\n",
       "         6.2902e-02, -2.8711e-02, -3.9387e-02,  1.2357e-02,  4.3226e-02,\n",
       "        -6.4895e-02, -8.1095e-02,  3.0885e-02, -5.0751e-02,  3.0153e-02,\n",
       "        -4.1136e-02, -5.8038e-02, -4.3667e-02, -3.7659e-02, -4.3627e-02,\n",
       "         3.7063e-02, -9.2001e-03, -2.1064e-02, -3.5430e-02,  3.2508e-03,\n",
       "        -4.8489e-02, -4.0292e-02,  4.3646e-02,  7.6618e-03, -1.2484e-02,\n",
       "        -5.1849e-02, -3.2752e-02, -8.8307e-04,  7.1584e-02,  1.5698e-02,\n",
       "         9.6024e-03, -7.9281e-03,  3.3591e-02, -3.6526e-02, -3.5673e-02,\n",
       "         1.6106e-02,  2.7223e-02, -3.0468e-03,  2.4758e-02,  5.5195e-02,\n",
       "         5.0388e-03,  5.1221e-02,  5.6378e-03, -1.0961e-02,  2.3259e-03,\n",
       "        -9.8682e-05, -1.3156e-03,  2.6489e-02, -3.1249e-03,  6.6960e-02,\n",
       "        -5.8876e-02,  2.0116e-02, -2.3527e-02, -7.0281e-03, -1.3955e-02,\n",
       "        -5.1147e-02,  3.9254e-02,  4.0010e-03, -2.4351e-02, -1.4371e-02,\n",
       "        -2.8150e-02, -2.6384e-03,  8.8684e-03, -2.4529e-02, -1.3961e-02,\n",
       "        -2.4712e-02,  2.2563e-02, -1.1981e-02, -8.7492e-03, -5.6096e-02,\n",
       "        -1.2028e-02, -3.0348e-02, -8.4877e-04, -3.5247e-02,  8.3878e-02,\n",
       "        -3.0630e-02, -2.6445e-02, -1.2932e-02, -5.6066e-02, -4.7792e-03,\n",
       "         1.4622e-02,  2.6229e-02,  3.5069e-02,  3.3643e-02, -4.8736e-02,\n",
       "        -3.2342e-02, -4.0106e-02, -2.5628e-03,  2.6752e-02,  3.5863e-02,\n",
       "        -2.0002e-02,  3.6442e-02, -2.7623e-03,  3.4931e-02, -8.5889e-03,\n",
       "        -2.3876e-02,  4.9022e-02, -3.4657e-02, -2.3290e-02,  6.8210e-03,\n",
       "         6.1145e-02,  3.4473e-03, -1.0474e-02, -2.4665e-02, -1.3361e-03,\n",
       "        -4.5912e-02, -3.9107e-02,  5.6398e-03, -2.2294e-02, -3.6779e-02,\n",
       "         2.9798e-02,  3.7462e-02,  2.1623e-03, -3.1077e-02, -1.6905e-02,\n",
       "        -4.0182e-02,  2.0103e-02,  3.8897e-02,  3.3437e-02, -1.0455e-01,\n",
       "        -9.1958e-04, -3.8370e-02, -1.1890e-02,  1.5268e-02,  1.3160e-02,\n",
       "        -1.4553e-02, -2.8908e-03, -6.5683e-03,  1.6934e-02,  3.8140e-02,\n",
       "        -1.2665e-02,  4.3645e-02, -2.8458e-02,  4.1985e-02, -1.6341e-02,\n",
       "         9.2023e-03,  2.2370e-02,  1.9625e-02,  5.1127e-03, -6.9368e-03,\n",
       "         6.3910e-03,  3.3959e-02, -4.4758e-02, -5.3472e-03,  1.2212e-02,\n",
       "        -4.1665e-02, -6.8971e-02,  1.7696e-02, -2.6745e-02,  3.4921e-02,\n",
       "         3.7416e-02, -3.5728e-02, -3.9496e-02,  1.4635e-02, -1.3631e-03,\n",
       "         1.8134e-02, -4.7597e-02, -9.1767e-03,  6.0136e-02, -4.1516e-02,\n",
       "         3.4037e-02,  1.4013e-02,  2.0214e-02,  2.7783e-02, -7.7056e-02,\n",
       "        -6.0329e-02, -2.3554e-02, -5.2079e-02, -5.0079e-02,  1.9361e-02,\n",
       "         6.8966e-03,  7.4344e-03,  8.6317e-03, -9.6070e-02, -8.5032e-02,\n",
       "         1.2986e-02,  1.1517e-02, -9.3728e-02,  1.8166e-02, -3.2719e-02,\n",
       "         2.9548e-02, -6.6721e-02,  5.4475e-03, -1.8519e-02,  2.4874e-02,\n",
       "        -4.1611e-02,  1.9527e-02, -4.4861e-02,  1.4353e-02,  8.5883e-03,\n",
       "         1.6003e-02,  3.6823e-02, -7.2780e-03,  5.0640e-02, -4.9590e-02,\n",
       "        -1.1891e-02, -3.3376e-02,  1.5861e-02, -1.3463e-02,  5.6209e-03,\n",
       "        -3.8454e-02,  1.6915e-02, -5.2910e-02, -1.1960e-02, -1.3383e-02,\n",
       "         6.4498e-02,  1.1798e-02, -3.2324e-02,  7.0935e-02,  6.9958e-03,\n",
       "         1.5247e-02, -3.7175e-02,  8.9094e-03, -9.9258e-03, -4.4005e-02,\n",
       "         4.3886e-03, -5.3118e-02, -1.7915e-02,  6.4799e-03,  2.7719e-02,\n",
       "        -9.1987e-03,  8.1947e-02,  1.0268e-02, -9.4204e-02,  1.4721e-02,\n",
       "         1.0082e-02,  2.2519e-02, -6.3294e-04, -2.7319e-02,  1.3818e-02,\n",
       "         6.5180e-02, -3.5028e-02,  5.5523e-02, -2.0485e-02, -1.7666e-02,\n",
       "        -4.6235e-02,  1.1928e-01,  5.6927e-02, -7.7313e-02,  1.0421e-02,\n",
       "        -3.1975e-02, -1.0532e-02, -2.5517e-02,  2.3475e-02,  3.8306e-02,\n",
       "         1.9788e-02, -1.0732e-02,  2.4110e-02, -6.1135e-03, -8.9342e-03,\n",
       "         1.0835e-01,  3.9201e-02, -7.4831e-02, -1.7072e-02, -9.8332e-03,\n",
       "        -1.0073e-02,  7.5115e-02, -4.3060e-02, -3.4627e-03, -1.7327e-02,\n",
       "         3.4393e-03, -1.5552e-02, -1.6385e-02,  6.8789e-02, -3.8262e-02,\n",
       "         2.1624e-03,  1.7916e-03,  2.0547e-02,  5.1932e-02, -5.8426e-02,\n",
       "        -5.7077e-04, -1.6602e-02, -2.0886e-02, -1.9417e-02, -2.3572e-02,\n",
       "         8.0785e-02, -1.6681e-02,  4.7182e-03,  2.9138e-02, -2.0171e-02,\n",
       "         1.2228e-02, -5.5074e-02,  4.4497e-02, -2.7122e-02, -2.1874e-02,\n",
       "         7.7581e-04,  5.7036e-02, -2.3428e-02, -1.3253e-02, -5.2477e-03,\n",
       "         1.6545e-02,  2.0872e-02, -5.3465e-02, -3.6621e-03,  4.8762e-02,\n",
       "         2.4714e-02,  1.0249e-02, -1.6923e-02,  1.8624e-02,  2.9123e-02,\n",
       "         6.8071e-02, -4.7064e-02,  1.4272e-02,  3.2281e-02, -3.1553e-02,\n",
       "        -5.0708e-02, -1.7352e-02, -7.5103e-02,  7.2839e-02, -1.4248e-02,\n",
       "        -2.9633e-02,  1.0710e-02, -3.3859e-02,  1.8471e-03,  4.4566e-02,\n",
       "        -2.2686e-02, -7.7839e-03,  3.2086e-02, -7.2184e-03, -8.8687e-03,\n",
       "         6.2869e-03, -1.2806e-02, -1.0856e-02,  4.1902e-02,  4.4264e-03,\n",
       "        -3.0241e-02,  6.6555e-02, -1.4452e-02, -5.5759e-02,  7.7413e-02,\n",
       "         6.6133e-03, -2.4800e-02, -6.6590e-03, -3.9129e-03, -2.0061e-02,\n",
       "         1.1262e-02, -1.6205e-03, -6.1672e-03, -1.8751e-02, -1.8178e-02,\n",
       "         1.2436e-02,  7.0107e-03, -3.9605e-02, -5.7165e-02,  4.6231e-02,\n",
       "         7.6938e-03, -1.1714e-02, -1.2678e-02,  5.2847e-03, -3.6114e-02,\n",
       "         2.0099e-02,  6.9880e-03, -4.1895e-03, -4.2991e-02,  4.4570e-02,\n",
       "        -3.2107e-02, -2.6094e-02, -2.5749e-02, -3.4963e-02,  5.5977e-03,\n",
       "         2.9057e-02,  4.3921e-02,  4.1063e-03,  3.0585e-02,  1.3243e-02,\n",
       "        -6.0583e-03,  5.5357e-02,  8.0036e-04,  1.5747e-02,  2.9988e-02,\n",
       "         4.7787e-02,  2.3001e-02,  1.6759e-03,  1.1683e-02, -3.3939e-02,\n",
       "        -2.4994e-02,  9.6094e-02, -3.7665e-02,  5.3253e-03,  4.1529e-02,\n",
       "         7.5858e-02,  2.9740e-03, -3.6372e-02,  2.1468e-02, -7.9456e-02,\n",
       "        -6.5785e-33,  2.8971e-02,  1.5086e-02,  1.6480e-02, -3.6184e-02,\n",
       "         2.2309e-02,  7.2001e-02, -3.7288e-02,  3.3045e-02, -2.9717e-02,\n",
       "        -7.7566e-03, -3.8316e-02,  3.5344e-02,  2.6604e-02,  3.4541e-02,\n",
       "         6.8288e-02, -5.2300e-02,  1.5575e-02,  3.1837e-02,  7.4394e-02,\n",
       "        -9.0975e-03, -2.0331e-02,  3.5827e-03,  8.4452e-02, -2.7746e-02,\n",
       "         3.6074e-02,  7.1588e-02, -5.2183e-02, -4.0205e-02,  3.0133e-02,\n",
       "        -3.9855e-02,  3.4147e-02,  8.7633e-04, -2.9141e-02, -2.7296e-03,\n",
       "         1.8953e-02,  1.2538e-03,  2.6287e-02, -2.5203e-02, -1.3045e-02,\n",
       "        -2.0149e-02, -3.1104e-02,  1.8851e-02,  1.2934e-02,  3.8121e-03,\n",
       "         1.2991e-02,  5.9720e-03, -3.5004e-03,  3.4276e-02, -1.0445e-02,\n",
       "        -3.0826e-02, -9.1908e-03,  2.0338e-02, -2.8382e-02,  7.4156e-02,\n",
       "        -3.7540e-02,  1.5943e-02,  4.5655e-03, -4.3913e-02, -3.5757e-02,\n",
       "         2.1879e-02,  6.1603e-02,  8.6005e-03, -1.0837e-02,  2.7528e-02,\n",
       "         8.9930e-03,  4.9011e-02, -1.0250e-02,  1.6215e-02, -7.0010e-03,\n",
       "         4.3971e-02, -4.3137e-02,  1.5781e-02, -3.3539e-02,  4.6136e-02,\n",
       "         7.1872e-02,  9.3328e-03, -2.2526e-02,  1.0329e-01,  2.7212e-02,\n",
       "         6.4040e-02, -2.6894e-03,  2.0931e-02, -4.0621e-02,  1.9711e-02,\n",
       "         2.2508e-02,  1.5637e-02,  1.3112e-02, -1.1497e-02, -2.1493e-02,\n",
       "         2.6404e-02, -1.1833e-02,  6.0169e-02, -3.8747e-02,  7.0491e-03,\n",
       "        -3.7850e-02, -4.8714e-02,  4.2846e-02, -3.1880e-02, -1.9988e-02,\n",
       "        -2.7049e-02,  3.1754e-02, -4.1556e-02, -1.3360e-02, -3.1516e-03,\n",
       "        -3.3889e-02,  1.8961e-02, -3.9542e-02,  2.4726e-02,  1.6301e-03,\n",
       "         7.6134e-03, -9.4768e-03,  4.3930e-02,  4.0697e-03,  7.1766e-03,\n",
       "        -6.1826e-02,  3.2995e-02,  2.1386e-02, -3.6182e-02, -2.3402e-02,\n",
       "         1.1119e-01,  2.5551e-02,  3.4828e-03, -4.7728e-02,  5.0871e-02,\n",
       "         3.4563e-02,  6.5326e-03,  2.5744e-03,  1.3000e-02,  3.8396e-02,\n",
       "        -5.6374e-02, -1.1218e-03,  8.6245e-04,  2.8121e-07,  3.2638e-02,\n",
       "         3.2746e-02,  7.0051e-03, -2.8521e-02, -2.9688e-02,  4.5530e-02,\n",
       "        -2.3617e-02, -1.4003e-02, -7.1522e-02, -3.3726e-02,  7.2317e-03,\n",
       "         6.2359e-03,  3.0690e-02,  1.9910e-02, -2.9213e-02, -4.4951e-02,\n",
       "        -9.9141e-02, -4.9324e-02, -1.1628e-02, -2.5166e-04,  6.1865e-03,\n",
       "         4.0364e-02, -1.5904e-02, -2.1689e-02,  5.4832e-03,  1.6936e-02,\n",
       "        -1.3781e-02, -6.4989e-02, -6.6305e-03, -7.3020e-02, -2.1050e-02,\n",
       "        -7.3238e-03,  6.7019e-02, -4.3314e-02, -1.5132e-03, -2.9704e-03,\n",
       "        -3.3429e-02, -2.9039e-02,  2.8940e-02,  3.0881e-02, -3.8002e-02,\n",
       "        -6.8836e-02,  6.4939e-03, -3.9698e-03, -1.6331e-02, -3.3664e-02,\n",
       "        -2.0091e-02, -1.2150e-02, -6.5305e-02,  6.0953e-02,  1.0414e-01,\n",
       "        -1.6722e-02, -4.8942e-02, -2.2313e-02,  2.2554e-02, -1.8204e-02,\n",
       "         2.4234e-02,  1.2599e-02,  2.1779e-02, -1.5540e-02, -6.6371e-02,\n",
       "         9.3555e-02, -4.6052e-03,  1.3388e-01, -1.9688e-02, -2.5411e-02,\n",
       "         5.9320e-02,  1.4076e-34,  2.2259e-02, -2.7083e-02, -2.1713e-02,\n",
       "         6.6891e-02,  3.2188e-02,  2.5036e-02, -1.6591e-02,  3.0641e-03,\n",
       "        -8.6036e-04, -3.5266e-02, -2.5665e-03], device='mps:0')"
      ]
     },
     "execution_count": 31,
     "metadata": {},
     "output_type": "execute_result"
    }
   ],
   "source": [
    "corpus_embedding[0]"
   ]
  },
  {
   "cell_type": "code",
   "execution_count": 11,
   "id": "88fa8683-3f11-42f4-b8fe-3aefa7dd59cb",
   "metadata": {},
   "outputs": [],
   "source": [
    "query = \"Is bitcoing going towards zero?\""
   ]
  },
  {
   "cell_type": "code",
   "execution_count": 21,
   "id": "41670408-6cb8-4d0f-8b05-06e169d74785",
   "metadata": {},
   "outputs": [
    {
     "data": {
      "application/vnd.jupyter.widget-view+json": {
       "model_id": "5457c96d827d48c390cf094710bbd6c2",
       "version_major": 2,
       "version_minor": 0
      },
      "text/plain": [
       "Batches:   0%|          | 0/1 [00:00<?, ?it/s]"
      ]
     },
     "metadata": {},
     "output_type": "display_data"
    }
   ],
   "source": [
    "query_embedding = symmetric_embedder.encode(query,show_progress_bar=True,convert_to_tensor=True)"
   ]
  },
  {
   "cell_type": "code",
   "execution_count": 35,
   "id": "6424b3da-4571-4bbe-bf03-76b727bfdf0d",
   "metadata": {},
   "outputs": [
    {
     "data": {
      "text/plain": [
       "torch.Size([768])"
      ]
     },
     "execution_count": 35,
     "metadata": {},
     "output_type": "execute_result"
    }
   ],
   "source": [
    "query_embedding.shape"
   ]
  },
  {
   "cell_type": "code",
   "execution_count": 38,
   "id": "d7e82000-177a-4354-a3b0-c02591d0fc6e",
   "metadata": {},
   "outputs": [
    {
     "data": {
      "text/plain": [
       "tensor([-2.9998e-02,  5.7063e-02, -1.1426e-02, -6.8454e-03,  6.7549e-03,\n",
       "        -2.4141e-02, -5.7055e-02, -3.4101e-02,  3.9711e-02,  1.6610e-02,\n",
       "         3.4489e-02,  1.8673e-02, -7.0793e-02,  1.0372e-01, -1.1179e-02,\n",
       "        -1.6241e-02,  4.2190e-02,  3.5470e-02,  3.2658e-02, -1.9900e-02,\n",
       "         7.0857e-03, -5.3708e-02, -1.5693e-03, -3.4765e-02, -1.1515e-02,\n",
       "        -4.2550e-02,  1.4203e-02,  1.5863e-02, -5.9242e-02, -6.6016e-03,\n",
       "        -1.6513e-02, -3.4548e-02, -5.1512e-02,  2.8926e-02,  1.3068e-06,\n",
       "        -3.3375e-02, -2.2657e-02,  4.2751e-02, -2.3311e-02, -1.7576e-02,\n",
       "        -8.8731e-02, -6.7801e-02, -2.8716e-02,  1.7678e-02, -5.5592e-02,\n",
       "        -1.8762e-03, -1.3840e-02,  1.0032e-02,  9.8458e-03,  2.0972e-02,\n",
       "        -1.4873e-02,  4.0098e-03,  4.8100e-02, -4.0577e-04,  2.1516e-02,\n",
       "        -7.7130e-02, -1.9730e-03, -2.7106e-02,  1.9975e-02, -2.2288e-02,\n",
       "        -2.2833e-03,  2.8162e-02, -3.2969e-03,  2.5263e-02,  7.3386e-03,\n",
       "         2.0131e-02,  1.4863e-02,  4.3236e-02, -4.7991e-02, -4.2614e-02,\n",
       "        -3.6868e-02, -3.7458e-02, -2.4865e-03,  6.6747e-02, -1.2650e-02,\n",
       "        -5.1812e-02, -1.0102e-02, -4.4604e-02,  4.8583e-02,  2.7587e-02,\n",
       "         8.7910e-02, -2.0735e-03, -3.5458e-03,  7.8072e-03, -1.2035e-02,\n",
       "         4.6859e-02, -1.0503e-02, -1.7687e-02,  1.8986e-02, -5.7273e-02,\n",
       "         4.8734e-02,  4.8517e-02, -2.7379e-02, -1.4729e-02, -4.4682e-02,\n",
       "         2.1651e-03, -3.8446e-04,  5.4391e-02,  1.5014e-02, -7.1143e-02,\n",
       "        -3.7896e-02,  7.0150e-03,  7.1365e-02,  6.3902e-02,  1.9438e-02,\n",
       "        -3.5812e-02, -6.6144e-02, -6.3819e-02,  4.7749e-02,  2.0752e-02,\n",
       "         5.7080e-03,  1.5606e-02, -1.5926e-04, -8.6142e-02,  4.2012e-03,\n",
       "         3.5480e-02, -3.4917e-03, -1.0205e-02,  2.8769e-02, -1.7832e-02,\n",
       "         1.4336e-02, -1.2885e-02, -2.2548e-02,  2.2474e-02,  1.9623e-02,\n",
       "         4.4511e-02, -5.3853e-02, -2.0222e-02,  2.0707e-02,  1.1835e-02,\n",
       "         1.1265e-02, -1.7771e-02,  1.7997e-02,  1.6421e-03,  3.4399e-03,\n",
       "         4.1158e-02, -3.8149e-02,  2.5077e-02, -3.5183e-02, -4.2994e-02,\n",
       "        -1.2901e-02,  3.3472e-02,  1.4239e-02,  2.4522e-02, -6.8427e-02,\n",
       "        -4.0028e-03, -2.0266e-02,  8.5827e-02, -8.8620e-03, -4.2498e-02,\n",
       "        -4.3868e-03,  2.9561e-02, -3.8929e-03,  6.4914e-03,  5.5908e-02,\n",
       "        -5.5116e-03,  1.1942e-02, -2.1121e-02, -3.2659e-02,  2.7712e-02,\n",
       "         1.7635e-02, -2.3907e-02, -4.5294e-03,  6.1935e-02, -8.9260e-03,\n",
       "        -2.0596e-02, -1.4167e-02,  3.6476e-02,  2.2463e-02,  1.1288e-03,\n",
       "        -4.8195e-02,  1.0410e-02,  3.1475e-02, -3.2367e-02,  5.5011e-02,\n",
       "        -6.3201e-02, -6.2303e-02, -4.5924e-02, -4.1367e-02, -2.3583e-03,\n",
       "        -1.0983e-02, -1.2845e-01, -2.3411e-02, -2.8375e-02,  2.9027e-02,\n",
       "         3.1179e-02,  5.3384e-02, -2.3750e-02, -4.4725e-02, -7.4905e-03,\n",
       "        -1.8450e-02, -6.2850e-02,  1.2706e-02, -5.4337e-03, -2.0067e-03,\n",
       "        -1.1449e-02, -1.0548e-02,  4.7246e-02, -2.8728e-02,  4.7690e-02,\n",
       "        -1.9999e-02, -4.9073e-02,  2.2091e-02, -6.8435e-02,  2.1214e-02,\n",
       "         3.2050e-03,  9.3242e-02, -2.0614e-02, -1.0901e-02, -9.8435e-03,\n",
       "        -7.9801e-04,  7.1027e-03, -3.9488e-02,  1.7944e-02,  2.3984e-02,\n",
       "         8.3623e-02,  9.5252e-03,  6.4597e-03,  3.7357e-02,  4.9144e-02,\n",
       "        -3.3711e-02,  1.0091e-02,  1.8791e-02, -4.7053e-04, -4.9104e-03,\n",
       "        -9.6821e-03, -5.3846e-02,  4.0604e-02,  1.2917e-02, -1.3523e-02,\n",
       "        -2.1899e-02,  1.3378e-02,  3.7285e-02,  1.4468e-02, -4.6240e-02,\n",
       "        -3.3780e-03,  1.6078e-02, -2.1465e-02,  2.8137e-02, -4.4128e-02,\n",
       "        -4.2201e-03, -5.5376e-02,  1.2201e-02, -4.5001e-02,  2.2958e-02,\n",
       "         4.6265e-02,  1.4241e-02, -1.4173e-03, -7.0674e-02, -2.1059e-02,\n",
       "         1.1202e-03,  2.4158e-02,  3.4292e-02,  1.9554e-02, -3.9132e-03,\n",
       "        -1.5553e-02, -2.5222e-02, -1.6619e-02,  1.9213e-02, -8.1697e-03,\n",
       "         5.3615e-02, -5.5639e-02, -7.5440e-03, -3.4264e-03,  1.5874e-02,\n",
       "        -3.4020e-02,  4.5212e-02, -2.1995e-02, -7.0396e-02, -8.4164e-03,\n",
       "         5.3660e-02, -3.0424e-02, -2.7420e-02,  1.9688e-02, -2.5423e-02,\n",
       "         5.0142e-03,  9.0123e-03, -1.6869e-03,  1.6595e-03, -1.5611e-02,\n",
       "         3.7256e-02,  1.9252e-02, -2.1241e-02,  9.4765e-03, -4.9908e-03,\n",
       "         8.8413e-03,  7.3986e-02, -7.4276e-04,  4.8891e-02, -4.1048e-02,\n",
       "        -2.8358e-02, -1.5614e-02,  8.7579e-03, -1.4666e-02, -5.0957e-03,\n",
       "         3.4706e-02,  6.7760e-04, -5.5024e-03,  2.2163e-02,  5.8448e-02,\n",
       "        -2.2974e-02,  3.4862e-02,  4.0161e-02,  8.5436e-03,  1.9593e-02,\n",
       "        -1.3518e-02,  2.4329e-02,  5.1059e-02,  4.5060e-02,  1.0161e-01,\n",
       "         1.9533e-02,  5.0371e-02,  2.0712e-02, -3.7271e-03, -2.0199e-02,\n",
       "        -5.1165e-02,  1.8610e-02,  5.7045e-02, -3.2055e-02, -1.6132e-03,\n",
       "        -8.7380e-03, -4.3043e-02, -1.5677e-02,  1.7038e-02,  2.6881e-02,\n",
       "         5.9538e-02,  3.2007e-02, -3.6605e-02,  1.5068e-02, -3.2957e-03,\n",
       "         3.8022e-03, -1.1162e-03,  2.5517e-02,  1.7833e-04,  4.6143e-04,\n",
       "        -7.9886e-02, -1.4487e-02, -2.0998e-02, -6.8138e-02,  1.4495e-02,\n",
       "        -3.6171e-02,  1.0122e-02,  8.5295e-03, -1.8677e-02, -3.9367e-02,\n",
       "        -1.1143e-02,  1.0386e-02,  1.3671e-02,  3.8871e-02, -2.7144e-02,\n",
       "        -3.1405e-02,  5.1384e-03, -1.6719e-02, -5.8164e-03, -1.2294e-02,\n",
       "         3.7415e-02,  1.3619e-02, -6.4688e-02, -7.9925e-02,  3.4395e-02,\n",
       "         3.2036e-02,  9.5352e-03,  4.7142e-02,  6.2574e-02, -1.2139e-03,\n",
       "        -7.2795e-03,  1.8837e-02,  1.9038e-02,  1.8659e-02,  1.9030e-02,\n",
       "        -5.3742e-02,  4.1567e-02,  2.6693e-02,  4.5696e-03,  7.6364e-03,\n",
       "         2.7293e-02,  2.5107e-02,  3.5447e-02, -4.6401e-02,  2.7251e-02,\n",
       "         1.5162e-03, -7.0890e-03, -8.7083e-03, -2.0395e-02, -1.8567e-02,\n",
       "        -3.6333e-02,  2.2412e-02, -1.5548e-02, -5.1952e-03,  7.2536e-03,\n",
       "         5.9672e-03,  7.9893e-02,  8.3354e-02,  5.6065e-03, -3.9950e-02,\n",
       "         8.9792e-03,  4.3319e-02, -5.8404e-02, -1.6654e-02,  1.3523e-02,\n",
       "         1.7857e-02,  2.5282e-02,  2.6250e-02,  7.6116e-02, -1.4946e-02,\n",
       "         4.5950e-03,  4.1039e-02,  1.1088e-01, -5.5086e-02,  1.7454e-02,\n",
       "        -1.0168e-02,  5.2083e-02,  2.8525e-02, -2.1445e-02,  4.5307e-02,\n",
       "         1.7644e-02, -9.1025e-03,  2.3380e-02,  8.2029e-02, -2.6459e-02,\n",
       "         3.7780e-02,  3.3772e-02,  5.0259e-02,  8.7454e-02, -5.1993e-02,\n",
       "        -4.8812e-03, -4.3816e-02, -4.7142e-02, -1.5226e-02, -8.7016e-03,\n",
       "        -1.8014e-02, -1.9746e-02,  6.2509e-03,  4.8186e-02, -6.4054e-02,\n",
       "         1.1977e-02, -1.3637e-03,  2.8688e-02,  4.1492e-02,  6.4292e-03,\n",
       "         2.4666e-02, -5.9944e-02,  1.7331e-02,  4.3346e-03,  5.7926e-02,\n",
       "         2.9580e-02,  4.0132e-02,  8.8274e-04, -3.1546e-02, -6.0863e-04,\n",
       "         3.8921e-02, -1.1296e-01,  6.9550e-02,  5.4121e-02,  3.8410e-03,\n",
       "         9.6843e-04,  2.1672e-02,  1.9480e-02, -8.1563e-03,  2.1845e-02,\n",
       "        -4.4514e-02,  2.0352e-02, -6.5117e-02,  1.3045e-02,  9.4797e-03,\n",
       "         7.8534e-03,  6.2943e-02, -1.0607e-02,  2.3539e-03,  9.1557e-03,\n",
       "         2.9797e-02, -3.0987e-02,  2.8048e-02,  1.9364e-02,  3.2945e-03,\n",
       "        -2.7646e-02, -7.3476e-02, -2.5469e-02,  2.7608e-02, -1.5731e-02,\n",
       "        -4.2371e-03, -1.6957e-02,  1.6139e-02, -1.7378e-04, -2.2649e-03,\n",
       "        -3.2673e-02,  4.3320e-02,  1.1699e-02,  5.1887e-03, -5.1860e-02,\n",
       "         3.0171e-02,  1.4383e-02, -3.5992e-02,  2.7077e-02,  4.6953e-02,\n",
       "        -4.9158e-02, -4.2365e-02, -7.2942e-02, -1.0046e-01,  5.0748e-02,\n",
       "        -1.2298e-02, -3.5349e-03, -1.5129e-02,  1.2037e-02, -5.6898e-02,\n",
       "        -1.7911e-02,  2.2361e-02,  3.0260e-02, -4.2093e-02, -6.5582e-03,\n",
       "        -8.7024e-03,  1.0632e-03, -1.0319e-02,  1.2459e-02,  5.2546e-02,\n",
       "         3.8782e-02,  7.4707e-04,  1.5334e-02,  3.1720e-02,  2.0344e-02,\n",
       "         2.6882e-02, -4.9356e-03,  4.1486e-02,  3.1730e-02, -3.0187e-02,\n",
       "        -4.6308e-02, -6.5444e-03, -6.2272e-02,  2.6508e-02,  3.4788e-02,\n",
       "         3.7340e-02, -4.8243e-02,  8.6986e-02,  7.2088e-03,  5.8773e-03,\n",
       "         7.2652e-02, -5.0014e-02, -8.9753e-02,  3.1523e-02,  1.4733e-02,\n",
       "         8.8822e-03,  1.3444e-02,  1.6547e-02,  2.2810e-02, -7.9011e-02,\n",
       "        -8.8638e-03, -1.2418e-02,  9.5027e-04, -1.5922e-02,  3.6087e-02,\n",
       "         2.0898e-02,  3.7482e-02, -6.2612e-02,  3.5528e-02, -3.3714e-02,\n",
       "        -5.1248e-33, -1.6262e-02, -6.8344e-03, -5.5243e-02, -6.6817e-03,\n",
       "        -4.9354e-03,  3.5033e-02, -2.2838e-03, -5.9840e-03, -4.6309e-02,\n",
       "        -2.3889e-02, -5.2170e-02, -1.3845e-02,  1.7767e-02,  1.8727e-02,\n",
       "         3.4421e-02, -5.1360e-02,  4.3749e-03, -2.3594e-02,  5.1684e-02,\n",
       "        -2.2282e-02, -4.2433e-03,  2.5453e-02,  5.8868e-02,  1.1199e-01,\n",
       "         4.1718e-02,  2.1499e-02, -2.6259e-02, -2.4990e-03,  3.2148e-02,\n",
       "         1.8425e-03,  2.8025e-02,  4.7133e-03,  2.0694e-02, -8.2052e-02,\n",
       "         3.9992e-02, -6.5177e-02, -2.4496e-02,  2.2789e-02, -7.3334e-02,\n",
       "        -7.8296e-03, -6.5861e-02,  2.3257e-02, -6.7161e-03, -1.4768e-02,\n",
       "        -2.9972e-02, -2.4837e-02, -3.3970e-03, -1.9367e-02, -3.0117e-02,\n",
       "        -7.5071e-02,  2.5984e-02, -8.4486e-03, -1.9706e-02,  5.1376e-02,\n",
       "        -8.1430e-02,  5.0761e-02,  5.4370e-02, -1.6312e-02, -3.1737e-02,\n",
       "        -1.4486e-02,  1.5448e-02, -6.4183e-03, -4.8936e-02,  3.7554e-03,\n",
       "         7.0930e-02,  6.2236e-02,  5.0510e-03,  4.4478e-02,  8.8816e-02,\n",
       "        -1.5153e-02, -1.8585e-02,  4.7655e-02, -5.4322e-02,  4.6714e-04,\n",
       "         5.3251e-02, -2.7461e-02, -6.8221e-03,  2.4671e-02,  1.0972e-01,\n",
       "        -5.7080e-02,  2.4887e-02, -2.4558e-03, -4.5005e-02,  2.6752e-02,\n",
       "        -5.5004e-02,  7.3425e-02,  1.1822e-02, -1.9338e-03, -1.0421e-02,\n",
       "         2.9682e-02,  4.5120e-03,  2.9114e-02, -1.3413e-02, -2.1066e-02,\n",
       "        -1.2586e-02,  3.5904e-02,  3.9656e-02,  2.0016e-02, -2.6982e-02,\n",
       "         4.7366e-02,  2.4406e-02, -2.9811e-02, -2.8733e-02, -6.2423e-02,\n",
       "         4.8696e-03,  7.9489e-03, -5.4005e-02,  9.6202e-03,  8.2763e-03,\n",
       "        -2.6836e-02, -1.5336e-02, -1.3704e-02,  1.0985e-03, -1.4034e-02,\n",
       "        -3.3972e-02, -2.8407e-02, -1.0566e-02, -3.0913e-02, -2.7941e-02,\n",
       "         3.5224e-02,  1.7296e-02,  3.1008e-02, -2.6224e-02,  3.0213e-02,\n",
       "        -2.2337e-02, -2.0475e-02, -1.8414e-02, -4.1261e-02, -2.8508e-02,\n",
       "        -5.9972e-02, -4.6648e-03,  3.4240e-02,  2.0354e-07, -6.2278e-02,\n",
       "        -9.2635e-03,  2.5338e-02,  7.1253e-02,  2.2119e-02,  6.0845e-02,\n",
       "         4.2026e-02, -1.2621e-02, -1.5113e-02,  3.4249e-02, -5.6791e-02,\n",
       "         2.5751e-02, -1.3092e-02,  3.6343e-02, -1.1782e-02, -1.1417e-02,\n",
       "        -2.9744e-02,  2.2811e-02, -3.9622e-03, -1.5443e-02,  2.5027e-03,\n",
       "         5.6418e-02,  1.8080e-02,  9.4692e-03,  1.4736e-02, -9.1638e-02,\n",
       "         5.8549e-03, -6.4342e-02, -6.5305e-02, -9.2750e-03, -9.0500e-02,\n",
       "         3.5246e-02, -3.9218e-02, -3.1756e-02,  1.1781e-02, -2.2593e-03,\n",
       "        -3.2355e-03, -3.7040e-02, -6.7306e-03, -5.8258e-03,  4.1750e-02,\n",
       "        -3.1189e-02, -2.6712e-03, -9.9238e-04,  4.6867e-02,  5.1129e-04,\n",
       "        -3.9045e-02, -2.0434e-02,  2.5000e-02,  1.8355e-02, -3.0705e-03,\n",
       "        -2.4559e-03,  1.5709e-02,  3.5765e-03,  2.1166e-02,  3.0705e-02,\n",
       "         7.9395e-03,  3.3424e-02, -1.1600e-02, -3.3301e-02, -3.6168e-02,\n",
       "         2.9247e-02, -1.9902e-02,  9.7298e-02,  1.7321e-02, -5.0945e-02,\n",
       "         2.5814e-02,  1.0978e-34,  6.9831e-04, -6.2005e-02, -4.0007e-03,\n",
       "        -1.5562e-02,  5.8144e-02,  4.2239e-03, -1.9701e-02, -7.9155e-03,\n",
       "         2.3241e-03, -1.3435e-02, -3.1740e-02], device='mps:0')"
      ]
     },
     "execution_count": 38,
     "metadata": {},
     "output_type": "execute_result"
    }
   ],
   "source": [
    "query_embedding"
   ]
  },
  {
   "cell_type": "code",
   "execution_count": 30,
   "id": "42330081-4003-4817-b59d-c72892efd0ae",
   "metadata": {},
   "outputs": [
    {
     "data": {
      "text/plain": [
       "torch.return_types.topk(\n",
       "values=tensor([[0.4679, 0.4271, 0.3383]], device='mps:0'),\n",
       "indices=tensor([[9, 0, 1]], device='mps:0'))"
      ]
     },
     "execution_count": 30,
     "metadata": {},
     "output_type": "execute_result"
    }
   ],
   "source": [
    "import torch\n",
    "\n",
    "score = util.cos_sim(query_embedding, corpus_embedding)\n",
    "top_results = torch.topk(score,k=3)\n",
    "top_results"
   ]
  },
  {
   "cell_type": "markdown",
   "id": "c31b620c-1bf6-44ae-89bd-288e8e881551",
   "metadata": {},
   "source": [
    "# Lets do it for every sentence in the corpus"
   ]
  },
  {
   "cell_type": "code",
   "execution_count": 26,
   "id": "4427e519-25c7-46a9-95e9-c83fe7bd26b0",
   "metadata": {},
   "outputs": [
    {
     "data": {
      "text/plain": [
       "[[{'corpus_id': 9, 'score': 0.467900812625885},\n",
       "  {'corpus_id': 0, 'score': 0.4271242916584015},\n",
       "  {'corpus_id': 1, 'score': 0.338331937789917},\n",
       "  {'corpus_id': 6, 'score': 0.1551639586687088},\n",
       "  {'corpus_id': 7, 'score': 0.10156837105751038},\n",
       "  {'corpus_id': 5, 'score': 0.09380258619785309},\n",
       "  {'corpus_id': 10, 'score': 0.04418697953224182},\n",
       "  {'corpus_id': 3, 'score': 0.028103698045015335},\n",
       "  {'corpus_id': 8, 'score': 0.005627302452921867},\n",
       "  {'corpus_id': 2, 'score': -0.0023279711604118347}]]"
      ]
     },
     "execution_count": 26,
     "metadata": {},
     "output_type": "execute_result"
    }
   ],
   "source": [
    "result = util.semantic_search(query_embedding,corpus_embedding)\n",
    "result"
   ]
  },
  {
   "cell_type": "markdown",
   "id": "78592934-c5ee-41c7-aed9-c80f8292fc79",
   "metadata": {},
   "source": [
    "# Train your own model"
   ]
  },
  {
   "cell_type": "code",
   "execution_count": null,
   "id": "d933ce53-af03-48ab-85bc-ab535c32ada4",
   "metadata": {},
   "outputs": [],
   "source": [
    "Simple Illustration of SBERT(Sentence-BERT) SentenceTransformers for semantic and texture similarity. Max score - 1 \n",
    "Max dissimilarity - -1\n",
    "Neutral - 0\n",
    "\n",
    "Siamese neural network modifies BERT. \n",
    "\n",
    "Pre-trained models list - \n",
    "\n"
   ]
  },
  {
   "cell_type": "code",
   "execution_count": 61,
   "id": "dec3947f-52df-42c4-a919-89a59d9b45f5",
   "metadata": {},
   "outputs": [],
   "source": [
    "import torch\n",
    "from sentence_transformers import SentenceTransformer, util"
   ]
  },
  {
   "cell_type": "code",
   "execution_count": 60,
   "id": "5484adf9-00aa-46f7-ab36-96fdca1f3361",
   "metadata": {},
   "outputs": [
    {
     "name": "stdout",
     "output_type": "stream",
     "text": [
      "SentenceTransformer(\n",
      "  (0): Transformer({'max_seq_length': 384, 'do_lower_case': False}) with Transformer model: MPNetModel \n",
      "  (1): Pooling({'word_embedding_dimension': 768, 'pooling_mode_cls_token': False, 'pooling_mode_mean_tokens': True, 'pooling_mode_max_tokens': False, 'pooling_mode_mean_sqrt_len_tokens': False, 'pooling_mode_weightedmean_tokens': False, 'pooling_mode_lasttoken': False, 'include_prompt': True})\n",
      "  (2): Normalize()\n",
      ")\n",
      "[INFO] Max seq length / Max tokens 384\n"
     ]
    }
   ],
   "source": [
    "symmetric_embedder = SentenceTransformer(\"all-mpnet-base-v2\")\n",
    "print(symmetric_embedder)\n",
    "print(f'[INFO] Max seq length / Max tokens {symmetric_embedder.max_seq_length}')"
   ]
  },
  {
   "cell_type": "code",
   "execution_count": 65,
   "id": "0e8d7402-0fee-434b-8aeb-996830cc757b",
   "metadata": {},
   "outputs": [],
   "source": [
    "text = [\n",
    "    \"Bitcoin Trades Around $57K, Crypto Market Drops 6% in Run-Up to Fed Decision\",\n",
    "    \"Market Turbulence Continues as Over 95,000 Crypto Traders Liquidated\",\n",
    "    \"Football is the biggest sport in the world\",\n",
    "    \"The US Central Bank added  that it ‘’does not expect it will be appropriate to reduce the target range until it has gained greater confidence that inflation is moving sustainably toward two per cent.'' \",\n",
    "    \"The State of Crypto Is Anything But Strong\",\n",
    "    \"Indian benchmark equity indices ended the day on a positive note on Thursday after a less hawkish US Federal Reserve downplayed an interest rate hike, and a drop in global oil prices also helped cool domestic inflation fears.\",\n",
    "    \"Dale Steyn devises 'baseball' solution after major LBW loophole exposed during last-ball finish in SRH vs RR match\",\n",
    "    \"Iran-Israel conflict: What did Nostradamus predict for 2024 which has sparked World War 3 concerns?\",\n",
    "    \"Crypto is a Scam!\",\n",
    "    \"Algebra is the branch of mathematics that studies algebraic structures and the manipulation of statements within those structures.\" \n",
    "]\n",
    "text_embeddings = symmetric_embedder.encode(text,convert_to_tensor=True)\n",
    "\n",
    "# Query\n",
    "query = \"Considering the long run, is Bitcoin ETF a good investment?\"\n",
    "query_embeddings = symmetric_embedder.encode(query,convert_to_tensor=True)"
   ]
  },
  {
   "cell_type": "code",
   "execution_count": 67,
   "id": "51702fc3-4d24-44d1-ae89-ed6f2914ea6e",
   "metadata": {},
   "outputs": [
    {
     "data": {
      "text/plain": [
       "torch.return_types.topk(\n",
       "values=tensor([[0.3337, 0.2616, 0.2303]], device='mps:0'),\n",
       "indices=tensor([[4, 5, 0]], device='mps:0'))"
      ]
     },
     "execution_count": 67,
     "metadata": {},
     "output_type": "execute_result"
    }
   ],
   "source": [
    "# Cosine Similarity\n",
    "\n",
    "scores = util.cos_sim(query_embeddings,text_embeddings)\n",
    "\n",
    "# Top 3 scores\n",
    "top_scores = torch.topk(scores,k=3)\n",
    "top_scores"
   ]
  },
  {
   "cell_type": "code",
   "execution_count": null,
   "id": "1c4fa0a8-51cf-4e5d-b79c-1705c8ddb6a3",
   "metadata": {},
   "outputs": [],
   "source": [
    "# Semantic search\n",
    "\n",
    "result = util.semantic_search(query_embeddings,text_embeddings)"
   ]
  }
 ],
 "metadata": {
  "kernelspec": {
   "display_name": "Python 3 (ipykernel)",
   "language": "python",
   "name": "python3"
  },
  "language_info": {
   "codemirror_mode": {
    "name": "ipython",
    "version": 3
   },
   "file_extension": ".py",
   "mimetype": "text/x-python",
   "name": "python",
   "nbconvert_exporter": "python",
   "pygments_lexer": "ipython3",
   "version": "3.9.5"
  }
 },
 "nbformat": 4,
 "nbformat_minor": 5
}
